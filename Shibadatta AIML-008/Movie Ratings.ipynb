{
 "cells": [
  {
   "cell_type": "code",
   "execution_count": 1,
   "id": "cbaa3abf",
   "metadata": {},
   "outputs": [
    {
     "name": "stdout",
     "output_type": "stream",
     "text": [
      "   No of Ratings  Frequency\n",
      "0              1        372\n",
      "1              2        160\n",
      "2              3        212\n",
      "3              4        322\n",
      "4              5        729\n",
      "5              6       1400\n",
      "6              7       1200\n",
      "7              8        656\n",
      "8              9        508\n",
      "9             10       1200\n"
     ]
    }
   ],
   "source": [
    "## Ratings of Judwaa 1997 film\n",
    "\n",
    "import pandas as pd\n",
    "df=pd.read_csv(r\"F:\\Applied Statitics\\Judwaa 1997.csv\")\n",
    "print(df)"
   ]
  },
  {
   "cell_type": "code",
   "execution_count": 2,
   "id": "b9540f1d",
   "metadata": {
    "scrolled": true
   },
   "outputs": [
    {
     "name": "stdout",
     "output_type": "stream",
     "text": [
      "[372, 160, 212, 322, 729, 1400, 1200, 656, 508, 1200]\n"
     ]
    }
   ],
   "source": [
    "fi=df[\"Frequency\"].tolist()\n",
    "print(fi)"
   ]
  },
  {
   "cell_type": "code",
   "execution_count": 3,
   "id": "0afad93e",
   "metadata": {},
   "outputs": [
    {
     "name": "stdout",
     "output_type": "stream",
     "text": [
      "[1, 2, 3, 4, 5, 6, 7, 8, 9, 10]\n"
     ]
    }
   ],
   "source": [
    "xi=df[\"No of Ratings\"].tolist()\n",
    "print(xi)"
   ]
  },
  {
   "cell_type": "code",
   "execution_count": 4,
   "id": "f40491a7",
   "metadata": {},
   "outputs": [
    {
     "data": {
      "text/plain": [
       "6.640183459091582"
      ]
     },
     "execution_count": 4,
     "metadata": {},
     "output_type": "execute_result"
    }
   ],
   "source": [
    "xi=df[\"No of Ratings\"]\n",
    "fi=df[\"Frequency\"]\n",
    "fixi=xi*fi\n",
    "mean1=fixi.sum()/fi.sum()\n",
    "mean1"
   ]
  },
  {
   "cell_type": "code",
   "execution_count": 7,
   "id": "4d24c36f",
   "metadata": {},
   "outputs": [
    {
     "data": {
      "image/png": "[encoded data removed]",
      "text/plain": [
       "<Figure size 432x288 with 1 Axes>"
      ]
     },
     "metadata": {
      "needs_background": "light"
     },
     "output_type": "display_data"
    }
   ],
   "source": [
    "## BARPLOT OF JUDWAA 1997\n",
    "\n",
    "import matplotlib.pyplot as plt\n",
    "y=[372, 160, 212, 322, 729, 1400, 1200, 656, 508, 1200]\n",
    "x=[1, 2, 3, 4, 5, 6, 7, 8, 9, 10]\n",
    "plt.bar(x,y)\n",
    "degree=30\n",
    "plt.xticks(x,rotation=degree)\n",
    "plt.show()"
   ]
  },
  {
   "cell_type": "code",
   "execution_count": 8,
   "id": "b157ab1b",
   "metadata": {},
   "outputs": [
    {
     "name": "stdout",
     "output_type": "stream",
     "text": [
      "   No of Ratings  Frequency\n",
      "0              1       4400\n",
      "1              2        974\n",
      "2              3        956\n",
      "3              4       1000\n",
      "4              5       1100\n",
      "5              6        773\n",
      "6              7        603\n",
      "7              8        346\n",
      "8              9        220\n",
      "9             10       1100\n"
     ]
    }
   ],
   "source": [
    "## Ratings of Judwaa 2 Remake film\n",
    "\n",
    "import pandas as pd\n",
    "df=pd.read_csv(r\"F:\\Applied Statitics\\Judwaa 2 Remake.csv\")\n",
    "print(df)"
   ]
  },
  {
   "cell_type": "code",
   "execution_count": 9,
   "id": "751c1d13",
   "metadata": {},
   "outputs": [
    {
     "name": "stdout",
     "output_type": "stream",
     "text": [
      "[4400, 974, 956, 1000, 1100, 773, 603, 346, 220, 1100]\n"
     ]
    }
   ],
   "source": [
    "fi=df[\"Frequency\"].tolist()\n",
    "print(fi)"
   ]
  },
  {
   "cell_type": "code",
   "execution_count": 10,
   "id": "cbf7d2f4",
   "metadata": {},
   "outputs": [
    {
     "name": "stdout",
     "output_type": "stream",
     "text": [
      "[1, 2, 3, 4, 5, 6, 7, 8, 9, 10]\n"
     ]
    }
   ],
   "source": [
    "xi=df[\"No of Ratings\"].tolist()\n",
    "print(xi)"
   ]
  },
  {
   "cell_type": "code",
   "execution_count": 11,
   "id": "082bf511",
   "metadata": {},
   "outputs": [
    {
     "data": {
      "text/plain": [
       "3.7764121338912133"
      ]
     },
     "execution_count": 11,
     "metadata": {},
     "output_type": "execute_result"
    }
   ],
   "source": [
    "xi=df[\"No of Ratings\"]\n",
    "fi=df[\"Frequency\"]\n",
    "fixi=xi*fi\n",
    "mean2=fixi.sum()/fi.sum()\n",
    "mean2"
   ]
  },
  {
   "cell_type": "code",
   "execution_count": 12,
   "id": "d162a2a6",
   "metadata": {},
   "outputs": [
    {
     "data": {
      "image/png": "[encoded data removed]",
      "text/plain": [
       "<Figure size 432x288 with 1 Axes>"
      ]
     },
     "metadata": {
      "needs_background": "light"
     },
     "output_type": "display_data"
    }
   ],
   "source": [
    "## BARPLOT OF JUDWAA 2 REMAKE\n",
    "\n",
    "import matplotlib.pyplot as plt\n",
    "y=[4400, 974, 956, 1000, 1100, 773, 603, 346, 220, 1100]\n",
    "x=[1, 2, 3, 4, 5, 6, 7, 8, 9, 10]\n",
    "plt.bar(x,y)\n",
    "degree=30\n",
    "plt.xticks(x,rotation=degree)\n",
    "plt.show()"
   ]
  },
  {
   "cell_type": "code",
   "execution_count": null,
   "id": "cb071fb8",
   "metadata": {},
   "outputs": [],
   "source": []
  }
 ],
 "metadata": {
  "kernelspec": {
   "display_name": "Python 3 (ipykernel)",
   "language": "python",
   "name": "python3"
  },
  "language_info": {
   "codemirror_mode": {
    "name": "ipython",
    "version": 3
   },
   "file_extension": ".py",
   "mimetype": "text/x-python",
   "name": "python",
   "nbconvert_exporter": "python",
   "pygments_lexer": "ipython3",
   "version": "3.9.12"
  }
 },
 "nbformat": 4,
 "nbformat_minor": 5
}
