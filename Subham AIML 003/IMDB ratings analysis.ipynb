{
 "cells": [
  {
   "cell_type": "code",
   "execution_count": 1,
   "id": "862e60ff",
   "metadata": {},
   "outputs": [
    {
     "name": "stdout",
     "output_type": "stream",
     "text": [
      "   No of ratings  Frequency\n",
      "0              1        733\n",
      "1              2        253\n",
      "2              3        322\n",
      "3              4        580\n",
      "4              5       1300\n",
      "5              6       2700\n",
      "6              7       4800\n",
      "7              8       3300\n",
      "8              9       1500\n",
      "9             10       2700\n"
     ]
    }
   ],
   "source": [
    "import pandas as pd \n",
    "df=pd.read_csv(r\"C:\\Users\\HP\\Downloads\\applied stats\\Singham_hindi.csv\")\n",
    "print(df)"
   ]
  },
  {
   "cell_type": "code",
   "execution_count": 4,
   "id": "0827fa73",
   "metadata": {},
   "outputs": [
    {
     "name": "stdout",
     "output_type": "stream",
     "text": [
      "[733, 253, 322, 580, 1300, 2700, 4800, 3300, 1500, 2700]\n"
     ]
    }
   ],
   "source": [
    "fi=df[\"Frequency\"].tolist()\n",
    "print(fi)"
   ]
  },
  {
   "cell_type": "code",
   "execution_count": 5,
   "id": "2ea974e2",
   "metadata": {},
   "outputs": [
    {
     "name": "stdout",
     "output_type": "stream",
     "text": [
      "[1, 2, 3, 4, 5, 6, 7, 8, 9, 10]\n"
     ]
    }
   ],
   "source": [
    "xi=df[\"No of ratings\"].tolist()\n",
    "print(xi)"
   ]
  },
  {
   "cell_type": "code",
   "execution_count": 7,
   "id": "33f6d3a2",
   "metadata": {},
   "outputs": [
    {
     "data": {
      "text/plain": [
       "7.022487354299538"
      ]
     },
     "execution_count": 7,
     "metadata": {},
     "output_type": "execute_result"
    }
   ],
   "source": [
    "xi = df['No of ratings']\n",
    "fi = df['Frequency']\n",
    "fixi = xi*fi\n",
    "\n",
    "mean1 = fixi.sum()/fi.sum()\n",
    "\n",
    "mean1"
   ]
  },
  {
   "cell_type": "code",
   "execution_count": 8,
   "id": "a234b7fb",
   "metadata": {},
   "outputs": [
    {
     "name": "stdout",
     "output_type": "stream",
     "text": [
      "   No of ratings  Frequency\n",
      "0              1        467\n",
      "1              2        101\n",
      "2              3        104\n",
      "3              4        195\n",
      "4              5        375\n",
      "5              6        857\n",
      "6              7       1500\n",
      "7              8       1100\n",
      "8              9        527\n",
      "9             10       2200\n"
     ]
    }
   ],
   "source": [
    "import pandas as pd\n",
    "df=pd.read_csv(r\"C:\\Users\\HP\\Downloads\\applied stats\\singham_tamil.csv\")\n",
    "print(df)"
   ]
  },
  {
   "cell_type": "code",
   "execution_count": 12,
   "id": "adda7e72",
   "metadata": {},
   "outputs": [
    {
     "name": "stdout",
     "output_type": "stream",
     "text": [
      "[467, 101, 104, 195, 375, 857, 1500, 1100, 527, 2200]\n"
     ]
    }
   ],
   "source": [
    "f2=df[\"Frequency\"].tolist()\n",
    "print(f2)"
   ]
  },
  {
   "cell_type": "code",
   "execution_count": 16,
   "id": "cac8602b",
   "metadata": {},
   "outputs": [
    {
     "data": {
      "text/plain": [
       "7.382305413412335"
      ]
     },
     "execution_count": 16,
     "metadata": {},
     "output_type": "execute_result"
    }
   ],
   "source": [
    "xi = df['No of ratings']\n",
    "f2 = df['Frequency']\n",
    "f2xi = xi*f2\n",
    "\n",
    "mean1 = f2xi.sum()/f2.sum()\n",
    "\n",
    "mean1"
   ]
  },
  {
   "cell_type": "code",
   "execution_count": 10,
   "id": "dc9e6054",
   "metadata": {},
   "outputs": [
    {
     "data": {
      "text/plain": [
       "<function matplotlib.pyplot.show(close=None, block=None)>"
      ]
     },
     "execution_count": 10,
     "metadata": {},
     "output_type": "execute_result"
    },
    {
     "data": {
      "image/png": "[encoded data removed]",
      "text/plain": [
       "<Figure size 432x288 with 1 Axes>"
      ]
     },
     "metadata": {
      "needs_background": "light"
     },
     "output_type": "display_data"
    }
   ],
   "source": [
    "#Singham_Hindi\n",
    "import matplotlib.pyplot as plt\n",
    "x=[1,2,3,4,5,6,7,8,9,10]\n",
    "y=[733, 253, 322, 580, 1300, 2700, 4800, 3300, 1500, 2700]\n",
    "plt.bar(x,y)\n",
    "degree=30\n",
    "plt.xticks(x,rotation=degree)\n",
    "plt.show "
   ]
  },
  {
   "cell_type": "code",
   "execution_count": 17,
   "id": "a39b56c1",
   "metadata": {},
   "outputs": [
    {
     "data": {
      "text/plain": [
       "<function matplotlib.pyplot.show(close=None, block=None)>"
      ]
     },
     "execution_count": 17,
     "metadata": {},
     "output_type": "execute_result"
    },
    {
     "data": {
      "image/png": "[encoded data removed]",
      "text/plain": [
       "<Figure size 432x288 with 1 Axes>"
      ]
     },
     "metadata": {
      "needs_background": "light"
     },
     "output_type": "display_data"
    }
   ],
   "source": [
    "#singham_tamil\n",
    "x=[1,2,3,4,5,6,7,8,9,10]\n",
    "y=[ 467, 101, 104, 195, 375, 857, 1500, 1100, 527, 2200]\n",
    "plt.bar(x,y)\n",
    "degree=30\n",
    "plt.xticks(x,rotation=degree)\n",
    "plt.show "
   ]
  },
  {
   "cell_type": "code",
   "execution_count": null,
   "id": "11c3b47a",
   "metadata": {},
   "outputs": [],
   "source": []
  }
 ],
 "metadata": {
  "kernelspec": {
   "display_name": "Python 3 (ipykernel)",
   "language": "python",
   "name": "python3"
  },
  "language_info": {
   "codemirror_mode": {
    "name": "ipython",
    "version": 3
   },
   "file_extension": ".py",
   "mimetype": "text/x-python",
   "name": "python",
   "nbconvert_exporter": "python",
   "pygments_lexer": "ipython3",
   "version": "3.9.12"
  }
 },
 "nbformat": 4,
 "nbformat_minor": 5
}
